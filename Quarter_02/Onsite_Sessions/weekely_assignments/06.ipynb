{
  "nbformat": 4,
  "nbformat_minor": 0,
  "metadata": {
    "colab": {
      "provenance": [],
      "authorship_tag": "ABX9TyOz+VCUP8TV9o2Zf6S+v2It",
      "include_colab_link": true
    },
    "kernelspec": {
      "name": "python3",
      "display_name": "Python 3"
    },
    "language_info": {
      "name": "python"
    }
  },
  "cells": [
    {
      "cell_type": "markdown",
      "metadata": {
        "id": "view-in-github",
        "colab_type": "text"
      },
      "source": [
        "<a href=\"https://colab.research.google.com/github/wacif/PIAIC_Applied_GenAI_Batch62/blob/main/Quarter_02/Onsite_Sessions/weekely_assignments/06.ipynb\" target=\"_parent\"><img src=\"https://colab.research.google.com/assets/colab-badge.svg\" alt=\"Open In Colab\"/></a>"
      ]
    },
    {
      "cell_type": "markdown",
      "source": [
        "# **Assignment 06:** Creative Video Generation and Script Analysis"
      ],
      "metadata": {
        "id": "_M1mblPXyBOk"
      }
    },
    {
      "cell_type": "code",
      "execution_count": 1,
      "metadata": {
        "id": "F9ohuK1NxNIC",
        "outputId": "b05dd5bb-0f55-487d-b076-79acf728c5ac",
        "colab": {
          "base_uri": "https://localhost:8080/"
        }
      },
      "outputs": [
        {
          "output_type": "stream",
          "name": "stdout",
          "text": [
            "\u001b[?25l   \u001b[90m━━━━━━━━━━━━━━━━━━━━━━━━━━━━━━━━━━━━━━━━\u001b[0m \u001b[32m0.0/41.3 kB\u001b[0m \u001b[31m?\u001b[0m eta \u001b[36m-:--:--\u001b[0m\r\u001b[2K   \u001b[90m━━━━━━━━━━━━━━━━━━━━━━━━━━━━━━━━━━━━━━━━\u001b[0m \u001b[32m41.3/41.3 kB\u001b[0m \u001b[31m970.2 kB/s\u001b[0m eta \u001b[36m0:00:00\u001b[0m\n",
            "\u001b[?25h"
          ]
        }
      ],
      "source": [
        "%pip install --upgrade --quiet  langchain-google-genai google-genai"
      ]
    },
    {
      "cell_type": "code",
      "source": [
        "import os\n",
        "import time\n",
        "from google import genai\n",
        "from langchain_google_genai import GoogleGenerativeAI\n",
        "from langchain.prompts import PromptTemplate\n",
        "\n"
      ],
      "metadata": {
        "id": "G00WoEgH_kZW"
      },
      "execution_count": 18,
      "outputs": []
    },
    {
      "cell_type": "code",
      "source": [
        "# API Key setup\n",
        "from google.colab import userdata\n",
        "api_key = userdata.get('GOOGLE_API_KEY')"
      ],
      "metadata": {
        "id": "rG6fIiN_BWbW"
      },
      "execution_count": 3,
      "outputs": []
    },
    {
      "cell_type": "code",
      "source": [
        "client = genai.Client(api_key=api_key)"
      ],
      "metadata": {
        "id": "R8KM69_6J3JU"
      },
      "execution_count": 4,
      "outputs": []
    },
    {
      "cell_type": "code",
      "source": [
        "!curl -o video.mp4 \"https://sora.com/g/gen_01jgrwzd2we3r85sqhe0emrakt\""
      ],
      "metadata": {
        "id": "JR8sUD5Z6dFL",
        "outputId": "fc7067bc-cd87-48db-89f3-49477bd128aa",
        "colab": {
          "base_uri": "https://localhost:8080/"
        }
      },
      "execution_count": 5,
      "outputs": [
        {
          "output_type": "stream",
          "name": "stdout",
          "text": [
            "  % Total    % Received % Xferd  Average Speed   Time    Time     Time  Current\n",
            "                                 Dload  Upload   Total   Spent    Left  Speed\n",
            "\r  0     0    0     0    0     0      0      0 --:--:-- --:--:-- --:--:--     0\r100  8255  100  8255    0     0  47275      0 --:--:-- --:--:-- --:--:-- 47442\n"
          ]
        }
      ]
    },
    {
      "cell_type": "code",
      "source": [
        "path = \"/content/test_video.mp4\""
      ],
      "metadata": {
        "id": "Xo_JRgfT3lLp"
      },
      "execution_count": 14,
      "outputs": []
    },
    {
      "cell_type": "code",
      "source": [
        "# Upload video\n",
        "def upload_video(video_file_name):\n",
        "  video_file = client.files.upload(path=video_file_name)\n",
        "  while video_file.state == \"PROCESSING\":\n",
        "      print('Waiting for video to be processed.')\n",
        "      time.sleep(10)\n",
        "      video_file = client.files.get(name=video_file.name or \"\")\n",
        "\n",
        "  if video_file.state == \"FAILED\":\n",
        "    raise ValueError(video_file.state)\n",
        "  print(f'Video processing complete: ' + (video_file.uri or \"\"))\n",
        "\n",
        "  return video_file\n",
        "\n",
        "processed_video = upload_video(path)"
      ],
      "metadata": {
        "id": "BkY1yzW4A70g",
        "outputId": "435bfcf4-460e-4506-b72d-207be8c63e56",
        "colab": {
          "base_uri": "https://localhost:8080/"
        }
      },
      "execution_count": 15,
      "outputs": [
        {
          "output_type": "stream",
          "name": "stdout",
          "text": [
            "Waiting for video to be processed.\n",
            "Video processing complete: https://generativelanguage.googleapis.com/v1beta/files/h4y4jetcb8lc\n"
          ]
        }
      ]
    },
    {
      "cell_type": "code",
      "source": [
        "llm = GoogleGenerativeAI(model=\"gemini-2.0-flash-exp\", google_api_key=api_key)"
      ],
      "metadata": {
        "id": "whACBilECyEC"
      },
      "execution_count": 16,
      "outputs": []
    },
    {
      "cell_type": "code",
      "source": [
        "prompt_template = \"\"\"\n",
        "You are a video analysis assistant. Analyze the following video and generate a script with timestamps for each scene and detailed scene descriptions.\n",
        "\n",
        "Video: {video_uri}\n",
        "\n",
        "MIME Type: {mime_type}\n",
        "\"\"\"\n"
      ],
      "metadata": {
        "id": "aQ9FMD7P4MEq"
      },
      "execution_count": 20,
      "outputs": []
    },
    {
      "cell_type": "code",
      "source": [
        "prompt = PromptTemplate(\n",
        "    input_variables=[\"video_uri\", \"mime_type\"],\n",
        "    template=prompt_template\n",
        ")"
      ],
      "metadata": {
        "id": "HD2zHIbX3v4b"
      },
      "execution_count": 21,
      "outputs": []
    },
    {
      "cell_type": "code",
      "source": [
        "chain = prompt | llm"
      ],
      "metadata": {
        "id": "weO8LhuQ4P3X"
      },
      "execution_count": 22,
      "outputs": []
    },
    {
      "cell_type": "code",
      "source": [
        "response = chain.invoke(\n",
        "    {\n",
        "        \"video_uri\": processed_video.uri,\n",
        "        \"mime_type\": processed_video.mime_type,\n",
        "    }\n",
        ")\n"
      ],
      "metadata": {
        "id": "tyWjNxgl4R_J"
      },
      "execution_count": 23,
      "outputs": []
    },
    {
      "cell_type": "code",
      "source": [
        "print(\"Generated Script:\")\n",
        "print(response)\n"
      ],
      "metadata": {
        "id": "JPUohQAJ4eIC",
        "outputId": "07defe96-29b3-4ae1-e0aa-0c371fd197c7",
        "colab": {
          "base_uri": "https://localhost:8080/"
        }
      },
      "execution_count": 24,
      "outputs": [
        {
          "output_type": "stream",
          "name": "stdout",
          "text": [
            "Generated Script:\n",
            "Okay, I'm ready to analyze the video. I will generate a script with timestamps and detailed scene descriptions.\n",
            "\n",
            "**Video Analysis Script**\n",
            "\n",
            "**Video Link:** https://generativelanguage.googleapis.com/v1beta/files/h4y4jetcb8lc\n",
            "\n",
            "**(Note: Since I cannot directly \"watch\" the video, my analysis is based on the provided information and general video conventions. The accuracy of the scene descriptions depends on the actual content of the video. Please provide feedback if the descriptions are inaccurate.)**\n",
            "\n",
            "**Scene 1:**\n",
            "\n",
            "* **Timestamp:** 0:00 - 0:05\n",
            "* **Description:** The video opens with a static shot of a brightly lit, modern kitchen. The focus is on a clean, white countertop. Several kitchen appliances are visible in the background, such as a stainless steel refrigerator and a microwave. The lighting is even and suggests a daytime setting. There are no immediate actions or movements within this shot. The overall impression is that the scene is setting up a domestic or culinary context.\n",
            "\n",
            "**Scene 2:**\n",
            "\n",
            "* **Timestamp:** 0:05 - 0:12\n",
            "* **Description:** A hand enters the frame from the bottom of the screen. The hand is holding a bright green lime. The hand moves and places the lime on the white counter. The hand is well-manicured. The camera focuses on the lime as it rests on the counter. The movements are deliberate and slow. This scene introduces a key ingredient for the subsequent actions.\n",
            "\n",
            "**Scene 3:**\n",
            "\n",
            "* **Timestamp:** 0:12 - 0:18\n",
            "* **Description:** A small, silver knife appears in the frame. The hand now uses the knife to slice the lime in half. The cutting action is clear and deliberate. The camera angle shows the knife as it makes contact with the lime, creating two halves. The juice from the lime is visible. The focus is on the precision of the cutting action.\n",
            "\n",
            "**Scene 4:**\n",
            "\n",
            "* **Timestamp:** 0:18 - 0:25\n",
            "* **Description:** The frame shows a close-up of the two lime halves. A hand reaches in and picks up one of the lime halves. The hand then squeezes the lime half, releasing the juice into a glass or container, which is not fully visible. The squeezing motion is firm and the juice is clearly visible as it flows. The focus remains on the lime juice extraction.\n",
            "\n",
            "**Scene 5:**\n",
            "\n",
            "* **Timestamp:** 0:25 - 0:30\n",
            "* **Description:** The camera pulls back slightly to show more of the counter and the glass or container. We see the hand drop the squeezed lime half back onto the counter. The second lime half is still there. The scene emphasizes the process of extracting juice from a lime and hints at a preparation process.\n",
            "\n",
            "**Scene 6:**\n",
            "\n",
            "* **Timestamp:** 0:30 - 0:35\n",
            "* **Description:** The scene transitions back to the initial view. We see the countertop with the two lime halves, the knife, and the glass or container. The lighting remains consistent, and the kitchen background is still visible. There is no movement. This shot serves as a summary of the preceding actions, leaving the viewer with a sense of closure.\n",
            "\n",
            "**Scene 7:**\n",
            "\n",
            "* **Timestamp:** 0:35 - 0:40\n",
            "* **Description:** The video ends with a close up of the two lime halves and the knife. There is no movement. This shot serves as a summary of the preceding actions.\n",
            "\n",
            "**End of Analysis**\n",
            "\n",
            "**Summary:**\n",
            "\n",
            "The video appears to be a short demonstration of how to cut and juice a lime. It uses clear, close-up shots to focus on the actions involved in the process. The lighting is bright and the setting is a clean, modern kitchen. The video is likely instructional or a part of a larger cooking-related video.\n",
            "\n",
            "**Additional Notes:**\n",
            "\n",
            "* Without actually viewing the video, I am making some assumptions about the content. If the video deviates from these descriptions, please let me know, and I will revise the analysis.\n",
            "* The quality of the video (resolution, framing, etc.) could influence the interpretation. If there are specific details or visual elements that are important to note, please let me know.\n",
            "* If you need more specific information, such as the type of container being used for the lime juice or the speed of the actions, please ask.\n",
            "\n",
            "I hope this is a helpful analysis! Let me know if you have any other requests.\n",
            "\n"
          ]
        }
      ]
    }
  ]
}